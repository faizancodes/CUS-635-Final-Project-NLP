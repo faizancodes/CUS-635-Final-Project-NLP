{
 "cells": [
  {
   "cell_type": "markdown",
   "metadata": {},
   "source": [
    "# Collecting \"Economy\" Articles from NYT API\n"
   ]
  },
  {
   "cell_type": "code",
   "execution_count": 1,
   "metadata": {},
   "outputs": [
    {
     "name": "stdout",
     "output_type": "stream",
     "text": [
      "^C\n"
     ]
    }
   ],
   "source": [
    "!pip install nytimesarticle"
   ]
  },
  {
   "cell_type": "code",
   "execution_count": 7,
   "metadata": {},
   "outputs": [],
   "source": [
    "import time\n",
    "import urllib.request\n",
    "import json\n",
    "from nytimesarticle import articleAPI"
   ]
  },
  {
   "cell_type": "code",
   "execution_count": 48,
   "metadata": {},
   "outputs": [],
   "source": [
    "api_key='Ap8BsTKvo5PXpvcQFUeEdjocSL6GPRTA'\n",
    "api = articleAPI(api_key)\n",
    "trainingFolder = 'C:\\\\tmp\\\\'\n",
    "sampleSize = 5 #Number of pages included. Normally each page contains 10 articles.\n",
    "\n",
    "def get_nytarticles(sampleSize,query,category,year):\n",
    "    all_articles = []\n",
    "\n",
    "    #Set date range (all year) change\n",
    "    #1Q equal 0101 to 0331\n",
    "    #2Q equal 0401 to 0630\n",
    "    #3Q equal 0701 to 0930\n",
    "    #4Q equal 1001 to 1231\n",
    "    dt_from = year+\"1001\" #change for each back for different time period \n",
    "    dt_to = year+\"1231\" #change for each back for different time period\n",
    "    \n",
    "    #Set basic URL\n",
    "    url = \"https://api.nytimes.com/svc/search/v2/articlesearch.json?\"\n",
    "    \n",
    "    #Adding parameters\n",
    "    url=url+\"api-key=\"+api_key\n",
    "    url=url+\"&fq=news_desk='\"+category+\"'\"\n",
    "    url=url+\"&begin_date=\"\n",
    "    url=url+dt_from\n",
    "    url=url+\"&end_date=\"+dt_to\n",
    "    url=url+\"&sort:newest\"\n",
    "    #print (url)\n",
    "    \n",
    "    #NYT limits pager to first 100 pages. But rarely will you find over 100 pages of results anyway.\n",
    "    for i in range(1,sampleSize+1):\n",
    "        print ('generating %s batch of articles [%s] ...' % (category,i))\n",
    "        \n",
    "        #Adding paging information\n",
    "        response = urllib.request.urlopen(url+\"&page=\"+str(i))\n",
    "        articles = json.loads(response.read())\n",
    "        articles = parse_articles(articles)\n",
    "        all_articles = all_articles + articles\n",
    "        \n",
    "        # Sleep 1 second to avoid \"Exceeded Request Quota\" error\n",
    "        time.sleep(6)\n",
    "    \n",
    "    return(all_articles)\n",
    "\n",
    "\n",
    "def parse_articles(articles):\n",
    "    '''\n",
    "    This function takes in a response to the NYT api and parses\n",
    "    the articles into a list of dictionaries\n",
    "    '''\n",
    "    news = []\n",
    "    #print(articles)\n",
    "    for i in articles['response']['docs']:\n",
    "        #print(i)\n",
    "        dic = {}\n",
    "        dic['id'] = i['_id']\n",
    "        \n",
    "        if 'abstract' in i and i['abstract'] is not None:\n",
    "            dic['abstract'] = i['abstract'].encode(\"utf8\")\n",
    "        \n",
    "        if 'headline' in i and i['headline'] is not None:\n",
    "            dic['headline'] = i['headline']['main'].encode(\"utf8\")\n",
    "        \n",
    "        if 'desk' in i and i['desk'] is not None:\n",
    "            dic['desk'] = i['news_desk']\n",
    "        \n",
    "        dic['date'] = i['pub_date'][0:10] # cutting time of day.\n",
    "        \n",
    "        if ('section_name' in i):\n",
    "            dic['section'] = i['section_name']\n",
    "       \n",
    "        if 'snippet' in i and ['snippet'] is not None:\n",
    "            dic['snippet'] = i['snippet'].encode(\"utf8\")\n",
    "        \n",
    "        if 'source' in i and i['source'] is not None:\n",
    "            dic['source'] = i['source']\n",
    "\n",
    "        if 'type_of_material' in i and i['type_of_material'] is not None:\n",
    "            dic['type'] = i['type_of_material']\n",
    "\n",
    "        if 'web_url' in i and i['web_url'] is not None:\n",
    "            dic['url'] = i['web_url']\n",
    "        \n",
    "        if ('word_count' in i):\n",
    "            dic['word_count'] = i['word_count']\n",
    "        \n",
    "        # locations\n",
    "        locations = []\n",
    "        for x in range(0,len(i['keywords'])):\n",
    "            if 'glocations' in i['keywords'][x]['name']:\n",
    "                locations.append(i['keywords'][x]['value'])\n",
    "        dic['locations'] = locations\n",
    "        # subject\n",
    "        subjects = []\n",
    "        for x in range(0,len(i['keywords'])):\n",
    "            if 'subject' in i['keywords'][x]['name']:\n",
    "                subjects.append(i['keywords'][x]['value'])\n",
    "        dic['subjects'] = subjects   \n",
    "        news.append(dic)\n",
    "    return(news) \n",
    "\n",
    "def get_articles(sampleSize,query,category,year):\n",
    "    '''\n",
    "    This function accepts a year in string format (e.g.'1980')\n",
    "    and a query (e.g.'Amnesty International') and it will \n",
    "    return a list of parsed articles (in dictionaries)\n",
    "    for that year.\n",
    "    '''\n",
    "    all_articles = []\n",
    "    for i in range(0,sampleSize): #NYT limits pager to first 100 pages. But rarely will you find over 100 pages of results anyway.\n",
    "        print ('generating %s block ...' % i)\n",
    "        articles = api.search(q = query,\n",
    "                              fq = {'news_desk':category},\n",
    "                              begin_date = year + '1001', #change for each time period\n",
    "                              end_date = year + '1231', #change for each time period\n",
    "                              sort ='newest',\n",
    "                              page = str(i))\n",
    "        articles = parse_articles(articles)\n",
    "        all_articles = all_articles + articles\n",
    "        # Sleep 1 second to avoid \"Exceeded Request Quota\" error\n",
    "        time.sleep(1)\n",
    "    return(all_articles)\n",
    "\n",
    "def testAPI(query,category):\n",
    "    content = []\n",
    "    economy =  get_nytarticles(1,query,category,'2013') #change year when applicable\n",
    "    print (economy)"
   ]
  },
  {
   "cell_type": "markdown",
   "metadata": {},
   "source": [
    "Testing the API"
   ]
  },
  {
   "cell_type": "code",
   "execution_count": 49,
   "metadata": {},
   "outputs": [
    {
     "name": "stdout",
     "output_type": "stream",
     "text": [
      "generating economy batch of articles [1] ...\n",
      "[{'id': 'nyt://article/6f65ee43-6866-5b9e-8a79-67792c6ab306', 'abstract': b'A couple return to the city where they met to be married before old friends and colleagues.', 'headline': b'Love, Blown on Course by a Storm', 'date': '2013-11-22', 'section': 'Fashion & Style', 'snippet': b'A couple return to the city where they met to be married before old friends and colleagues.', 'source': 'The New York Times', 'type': 'News', 'url': 'https://www.nytimes.com/2013/11/24/fashion/weddings/love-blown-on-course-by-a-storm.html', 'word_count': 1577, 'locations': [], 'subjects': ['Weddings and Engagements', 'Dating and Courtship', 'Vows (Times Column)']}, {'id': 'nyt://article/a6cce509-b0a5-5653-99e0-0123023997cc', 'abstract': b'Prime Minister Antonis Samaras, meeting with Chancellor Angela Merkel of Germany, is seeking to ease the terms for securing more rescue funds.', 'headline': b'Greece Says It Is on Track to Repay Bailout', 'date': '2013-11-22', 'section': 'Business Day', 'snippet': b'Prime Minister Antonis Samaras, meeting with Chancellor Angela Merkel of Germany, is seeking to ease the terms for securing more rescue funds.', 'source': 'The New York Times', 'type': 'News', 'url': 'https://www.nytimes.com/2013/11/23/business/international/greece-says-it-is-on-track-to-repay-bailout.html', 'word_count': 629, 'locations': ['Greece'], 'subjects': ['Credit and Debt', 'European Sovereign Debt Crisis (2010- )']}, {'id': 'nyt://article/288b881e-f6a2-5612-8852-0dbd559f96cc', 'abstract': b'Mario Draghi\\xe2\\x80\\x99s comments came amid increased concern that European leaders have lost the will to address underlying flaws in the euro zone and instead are blaming each other for the economic stagnation.', 'headline': b'Central Bank Chief Urges European Unity', 'date': '2013-11-22', 'section': 'Business Day', 'snippet': b'Mario Draghi\\xe2\\x80\\x99s comments came amid increased concern that European leaders have lost the will to address underlying flaws in the euro zone and instead are blaming each other for the economic stagnation.', 'source': 'The New York Times', 'type': 'News', 'url': 'https://www.nytimes.com/2013/11/23/business/international/central-bank-chief-urges-european-unity.html', 'word_count': 631, 'locations': [], 'subjects': ['Banking and Financial Institutions', 'Economic Conditions and Trends']}, {'id': 'nyt://article/e0481362-f5ac-5d60-a622-f2cd7c73b841', 'abstract': b'Although Chancellor Angela Merkel is against introducing a nationwide minimum wage, it may be the price she has to pay to build the stable government she has promised voters.', 'headline': b'To Form German Coalition, Merkel\\xe2\\x80\\x99s Party May Need to Support a Minimum Wage', 'date': '2013-10-15', 'section': 'World', 'snippet': b'Although Chancellor Angela Merkel is against introducing a nationwide minimum wage, it may be the price she has to pay to build the stable government she has promised voters.', 'source': 'The New York Times', 'type': 'News', 'url': 'https://www.nytimes.com/2013/10/15/world/europe/to-form-german-coalition-merkels-party-may-need-to-support-a-minimum-wage.html', 'word_count': 656, 'locations': ['Germany'], 'subjects': ['Minimum Wage']}, {'id': 'nyt://article/c10df38e-6fd4-5930-91b7-40adebdee5ef', 'abstract': b'Criticism of the $1 billion project to build a new stadium for the Minnesota Vikings\\xe2\\x80\\x99 has brought a local face to the national discussion over public contributions to sports stadiums.', 'headline': b'For Vikings, New Stadium Meets Lingering Doubts', 'date': '2013-12-04', 'section': 'Sports', 'snippet': b'Criticism of the $1 billion project to build a new stadium for the Minnesota Vikings\\xe2\\x80\\x99 has brought a local face to the national discussion over public contributions to sports stadiums.', 'source': 'The New York Times', 'type': 'News', 'url': 'https://www.nytimes.com/2013/12/04/sports/football/for-minnesota-vikings-new-stadium-meets-lingering-doubts.html', 'word_count': 830, 'locations': [], 'subjects': ['Football', 'Stadiums and Arenas']}, {'id': 'nyt://article/f8d61422-8294-5a9c-b692-655593291085', 'abstract': b'Tehran is weighing the relative benefits of deal-making and economic reform, and is experimenting with both.', 'headline': b'Iran\\xe2\\x80\\x99s Economic Crossroads', 'date': '2013-12-04', 'section': 'Opinion', 'snippet': b'Tehran is weighing the relative benefits of deal-making and economic reform, and is experimenting with both.', 'source': 'International New York Times', 'type': 'Op-Ed', 'url': 'https://www.nytimes.com/2013/12/05/opinion/nasr-irans-economic-crossroads.html', 'word_count': 885, 'locations': ['Iran'], 'subjects': ['International Relations', 'Economic Conditions and Trends', 'Embargoes and Economic Sanctions']}, {'id': 'nyt://article/e30ef0fd-13c7-53f1-b088-6e0b1456b28f', 'abstract': b'An outspoken advocate for changing the education system to produce more graduates with tech skills.', 'headline': b'Q. & A. With Anthony P. Carnevale', 'date': '2013-12-07', 'section': 'Opinion', 'snippet': b'An outspoken advocate for changing the education system to produce more graduates with tech skills.', 'source': 'The New York Times', 'type': 'Editorial', 'url': 'https://www.nytimes.com/2013/12/08/opinion/sunday/stem-qa-anthony-p-carnevale.html', 'word_count': 1678, 'locations': [], 'subjects': ['Education', 'Teachers and School Employees', 'Science and Technology', 'Mathematics']}, {'id': 'nyt://article/8ac582c8-fb17-5c8c-8b5a-0c90fb0ecede', 'abstract': b'A nation is trying to clean up after thousands of homes that, after the housing bubble burst, were never finished or are substandard.', 'headline': b'Irish Try to Eradicate Ghosts of a Housing Crash', 'date': '2013-12-21', 'section': 'World', 'snippet': b'A nation is trying to clean up after thousands of homes that, after the housing bubble burst, were never finished or are substandard.', 'source': 'The New York Times', 'type': 'News', 'url': 'https://www.nytimes.com/2013/12/22/world/europe/legacy-of-a-crash-ghost-estates-haunt-ireland.html', 'word_count': 1251, 'locations': ['Ireland'], 'subjects': ['Real Estate and Housing (Residential)', 'European Sovereign Debt Crisis (2010- )', 'Demolition', 'Mortgages', 'Bankruptcies']}, {'id': 'nyt://article/078fae09-2dbf-59ec-89b6-9ea3f0bf2e62', 'abstract': b'In recent years, Cubans close to the communist government have begun talking more openly about the economy, the political leadership and the restrictions they resent.', 'headline': b'In Cuba\\xe2\\x80\\x99s Press, Streets and Living Rooms, Glimmers of Openness to Criticism', 'date': '2013-12-07', 'section': 'World', 'snippet': b'In recent years, Cubans close to the communist government have begun talking more openly about the economy, the political leadership and the restrictions they resent.', 'source': 'The New York Times', 'type': 'News', 'url': 'https://www.nytimes.com/2013/12/08/world/americas/within-cubas-revolution-glimmers-of-tolerance-for-voices-of-dissent.html', 'word_count': 1077, 'locations': ['Cuba'], 'subjects': ['Freedom of Speech and Expression', 'Computers and the Internet', 'Blogs and Blogging (Internet)', 'News and News Media']}, {'id': 'nyt://article/153af2b0-dd44-5208-99a6-3e4a1db3d7df', 'abstract': b'Repeated strikes against fast-food restaurants have called for a sharp minimum-wage increase, to $15 an hour, but the side effects of such a jump on prices and employment are unclear.', 'headline': b'$15 Wage in Fast Food Stirs Debate on Effects', 'date': '2013-12-05', 'section': 'Business Day', 'snippet': b'Repeated strikes against fast-food restaurants have called for a sharp minimum-wage increase, to $15 an hour, but the side effects of such a jump on prices and employment are unclear.', 'source': 'The New York Times', 'type': 'News', 'url': 'https://www.nytimes.com/2013/12/05/business/15-wage-in-fast-food-stirs-debate-on-effects.html', 'word_count': 1148, 'locations': [], 'subjects': ['Minimum Wage', 'Fast Food Industry', 'Labor and Jobs', 'Prices (Fares, Fees and Rates)', 'Strikes']}]\n"
     ]
    }
   ],
   "source": [
    "testAPI(\"the\",\"economy\")"
   ]
  },
  {
   "cell_type": "markdown",
   "metadata": {},
   "source": [
    "Utility Methods to generate training sets"
   ]
  },
  {
   "cell_type": "code",
   "execution_count": 50,
   "metadata": {},
   "outputs": [],
   "source": [
    "def generateTrainingSet(size,category,year):\n",
    "    articles = get_nytarticles(size,\"the\",category,year)\n",
    "    fileName = \"C:\\\\tmp\\\\4Q2013training_\"+category.lower()  #change file name each time run. Using Quarterly dates.\n",
    "    f = open(fileName, 'w')\n",
    "    text = ''\n",
    "    \n",
    "    for doc in articles:\n",
    "        try:\n",
    "            if 'abstract' in doc:\n",
    "                # Get the abstract\n",
    "                text = doc['abstract']\n",
    "            elif 'snippet' in doc:\n",
    "                text = doc['snippet']\n",
    "\n",
    "            #Remove tabs\n",
    "            text = str(text,'utf-8')\n",
    "            text=text.replace('\\t',' ')\n",
    "            f.write('%s\\n' % text)\n",
    "        except:\n",
    "            print(\"Error Occured: ignoring ...\")\n",
    "    \n",
    "    f.close()"
   ]
  },
  {
   "cell_type": "markdown",
   "metadata": {},
   "source": [
    "Generate Training sets for Economy"
   ]
  },
  {
   "cell_type": "code",
   "execution_count": 51,
   "metadata": {},
   "outputs": [
    {
     "name": "stdout",
     "output_type": "stream",
     "text": [
      "generating Economy batch of articles [1] ...\n",
      "generating Economy batch of articles [2] ...\n",
      "generating Economy batch of articles [3] ...\n",
      "generating Economy batch of articles [4] ...\n",
      "generating Economy batch of articles [5] ...\n",
      "generating Economy batch of articles [6] ...\n",
      "generating Economy batch of articles [7] ...\n",
      "generating Economy batch of articles [8] ...\n",
      "generating Economy batch of articles [9] ...\n",
      "generating Economy batch of articles [10] ...\n",
      "generating Economy batch of articles [11] ...\n",
      "generating Economy batch of articles [12] ...\n",
      "generating Economy batch of articles [13] ...\n",
      "generating Economy batch of articles [14] ...\n",
      "generating Economy batch of articles [15] ...\n",
      "generating Economy batch of articles [16] ...\n",
      "generating Economy batch of articles [17] ...\n",
      "generating Economy batch of articles [18] ...\n",
      "generating Economy batch of articles [19] ...\n",
      "generating Economy batch of articles [20] ...\n"
     ]
    }
   ],
   "source": [
    "generateTrainingSet(20,\"Economy\",\"2013\") #change year based on query"
   ]
  },
  {
   "cell_type": "code",
   "execution_count": 139,
   "metadata": {},
   "outputs": [],
   "source": [
    "#Combining all files together\n",
    "filenames = \"C:\\\\tmp\\\\1Q2013training_economy\",\"C:\\\\tmp\\\\2Q2013training_economy\",\"C:\\\\tmp\\\\3Q2013training_economy\",\"C:\\\\tmp\\\\4Q2013training_economy\",\"C:\\\\tmp\\\\1Q2014training_economy\",\"C:\\\\tmp\\\\2Q2014training_economy\",\"C:\\\\tmp\\\\3Q2014training_economy\",\"C:\\\\tmp\\\\4Q2014training_economy\",\"C:\\\\tmp\\\\1Q2015training_economy\",\"C:\\\\tmp\\\\2Q2015training_economy\",\"C:\\\\tmp\\\\3Q2015training_economy\",\"C:\\\\tmp\\\\4Q2015training_economy\",\"C:\\\\tmp\\\\1Q2016training_economy\", \"C:\\\\tmp\\\\2Q2016training_economy\",\"C:\\\\tmp\\\\3Q2016training_economy\",\"C:\\\\tmp\\\\4Q2016training_economy\",\"C:\\\\tmp\\\\1Q2017training_economy\",\"C:\\\\tmp\\\\2Q2017training_economy\",\"C:\\\\tmp\\\\3Q2017training_economy\",\"C:\\\\tmp\\\\4Q2017training_economy\",\"C:\\\\tmp\\\\1Q2018training_economy\",\"C:\\\\tmp\\\\2Q2018training_economy\",\"C:\\\\tmp\\\\3Q2018training_economy\",\"C:\\\\tmp\\\\4Q2018training_economy\",\"C:\\\\tmp\\\\1Q2019training_economy\",\"C:\\\\tmp\\\\2Q2019training_economy\",\"C:\\\\tmp\\\\3Q2019training_economy\",\"C:\\\\tmp\\\\4Q2019training_economy\"\n",
    "with open(\"C:\\\\tmp\\\\EconomyArticles 2013-2019\", 'w') as outfile:\n",
    "    for fname in filenames:\n",
    "        with open(fname) as infile:\n",
    "            for line in infile:\n",
    "                outfile.write(line)"
   ]
  },
  {
   "cell_type": "code",
   "execution_count": null,
   "metadata": {},
   "outputs": [],
   "source": []
  }
 ],
 "metadata": {
  "anaconda-cloud": {},
  "kernelspec": {
   "display_name": "Python 3",
   "language": "python",
   "name": "python3"
  },
  "language_info": {
   "codemirror_mode": {
    "name": "ipython",
    "version": 3
   },
   "file_extension": ".py",
   "mimetype": "text/x-python",
   "name": "python",
   "nbconvert_exporter": "python",
   "pygments_lexer": "ipython3",
   "version": "3.7.1"
  }
 },
 "nbformat": 4,
 "nbformat_minor": 1
}
